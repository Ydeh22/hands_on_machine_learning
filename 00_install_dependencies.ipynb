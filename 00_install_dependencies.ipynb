{
 "cells": [
  {
   "cell_type": "markdown",
   "metadata": {
    "pycharm": {
     "name": "#%% md\n"
    }
   },
   "source": [
    "<div style=\"text-align: right\"><sub>This notebook is distributed under the <a href=\"https://creativecommons.org/licenses/by-sa/4.0/\" target=\"_blank\">Attribution-ShareAlike 4.0 International (CC BY-SA 4.0) license</a>.</sub></div>\n",
    "<h1>Hands on Machine Learning  <span style=\"font-size:12px;\"><i>by <a href=\"https://webgrec.ub.edu/webpages/000004/cat/dmaluenda.ub.edu.html\" target=\"_blank\">David Maluenda</a></i></span></h1>\n",
    "\n",
    "<table class=\"tfo-notebook-buttons\" align=\"left\">\n",
    "  <td>\n",
    "    <a href=\"https://atenea.upc.edu/course/view.php?id=79198\" target=\"_blank\">\n",
    "      <img src=\"https://github.com/dmaluenda/hands_on_machine_learning/raw/master/resources/upc_logo_49px.png\" width=\"130\"/>\n",
    "    </a>\n",
    "  </td>\n",
    "  <td>\n",
    "  </td>\n",
    "  <td>   <!-- github -->\n",
    "    <a href=\"https://github.com/dmaluenda/hands_on_machine_learning/blob/master/00_install_dependencies.ipynb\" target=\"_blank\">\n",
    "      <img src=\"https://raw.githubusercontent.com/dmaluenda/hands_on_machine_learning/master/resources/github_logo_32px.png\" />\n",
    "      View source on GitHub\n",
    "    </a>\n",
    "  </td>\n",
    "  <td>   <!-- download -->\n",
    "    <a href=\"https://raw.githubusercontent.com/dmaluenda/hands_on_machine_learning/master/00_install_dependencies.ipynb\"  target=\"_blank\" download=\"01_Basics_NeuralNetworks\">\n",
    "      <img src=\"https://raw.githubusercontent.com/dmaluenda/hands_on_machine_learning/master/resources/download_logo_32px.png\" />\n",
    "      Download notebook\n",
    "      </a>\n",
    "  </td>\n",
    "</table>"
   ]
  },
  {
   "cell_type": "markdown",
   "metadata": {
    "pycharm": {
     "name": "#%% md\n"
    }
   },
   "source": [
    "#  $\\text{0}$. Install dependencies\n",
    "\n",
    "Hands on \"Machine Learning on Classical and Quantum data\" course of\n",
    "[Master in Photonics - PHOTONICS BCN](https://photonics.masters.upc.edu/en/general-information)\n",
    "[[UPC](https://photonics.masters.upc.edu/en) +\n",
    "[UB](https://www.ub.edu/web/ub/en/estudis/oferta_formativa/master_universitari/fitxa/P/M0D0H/index.html?) +\n",
    "[UAB](https://www.uab.cat/en/uab-official-masters-degrees-study-guides/) +\n",
    "[ICFO](https://www.icfo.eu/lang/studies/master-studies)].\n",
    "\n",
    "Tutorial 0\n",
    "\n",
    "To be able to run this file, you need a Jupyter Notebooks interpreter. You can install it in your computer following the instrucctions in [this link](https://github.com/dmaluenda/hands_on_machine_learning#hands-on-machine-learning-course-of-master-in-photonics-upcubuabicfo).\n",
    "\n",
    "This notebook shows how to:\n",
    "- Manage conda environs (just in case)\n",
    "- Install all python modules we need\n",
    "- Install extensions to get fancy Jupyter Notebooks\n"
   ]
  },
  {
   "cell_type": "markdown",
   "metadata": {
    "toc": true,
    "pycharm": {
     "name": "#%% md\n"
    }
   },
   "source": [
    "<h1>Table of Contents<span class=\"tocSkip\"></span></h1>\n",
    "<div class=\"toc\"><ul class=\"toc-item\"><li><span><a href=\"#0-Warming-up\" data-toc-modified-id=\"0-Warming-up-0\">0 Warming up</a></span></li><li><span><a href=\"#1-Python-modules-(mandatory)\" data-toc-modified-id=\"1-Python-modules-(mandatory)-1\">1 Python modules (mandatory)</a></span></li><li><span><a href=\"#2-nbextensions--(optional)\" data-toc-modified-id=\"2-nbextensions--(optional)-2\">2 nbextensions  (optional)</a></span></li></ul></div>"
   ]
  },
  {
   "cell_type": "markdown",
   "metadata": {
    "pycharm": {
     "name": "#%% md\n"
    }
   },
   "source": [
    "## 0 Warming up\n",
    "\n",
    "This notebook is full of system commands (note the exclamation mark `!`\n",
    "at the beginning of the line). If you want to run that commands in your\n",
    "terminal, remember of activating conda (and the corresponding environ, if so)\n",
    "at the very beginning.\n",
    "\n",
    "You can check the available environs by\n"
   ]
  },
  {
   "cell_type": "code",
   "execution_count": 1,
   "metadata": {
    "pycharm": {
     "name": "#%%\n"
    }
   },
   "outputs": [],
   "source": [
    "!conda info --env  # the one with an asterisk '*' is the activated environ "
   ]
  },
  {
   "cell_type": "markdown",
   "metadata": {
    "pycharm": {
     "name": "#%% md\n"
    }
   },
   "source": [
    "If you have only the `base` and it is activated, it is ok."
   ]
  },
  {
   "cell_type": "markdown",
   "metadata": {
    "pycharm": {
     "name": "#%% md\n"
    }
   },
   "source": [
    "## 1 Python modules (mandatory)\n"
   ]
  },
  {
   "cell_type": "code",
   "execution_count": 2,
   "metadata": {
    "pycharm": {
     "name": "#%%\n"
    }
   },
   "outputs": [],
   "source": [
    "# Basic ones (since the first tutorial)\n",
    "!pip install matplotlib\n",
    "!pip install imageio\n",
    "\n",
    "# For Deep Learning (since the third tutorial)\n",
    "!pip install tensorflow\n",
    "\n",
    "# For Data Analysis (forth tutorial)\n",
    "!pip install pandas\n",
    "\n",
    "# For Reinforced Learning (fifth tutorial)\n",
    "!pip install gym\n",
    "\n",
    "# For nice NN plottings (optional)\n",
    "!pip install pydot"
   ]
  },
  {
   "cell_type": "markdown",
   "metadata": {
    "pycharm": {
     "name": "#%% md\n"
    }
   },
   "source": [
    "For nice NN plotting [this package](https://graphviz.gitlab.io/download/) should be also installed."
   ]
  },
  {
   "cell_type": "markdown",
   "metadata": {
    "pycharm": {
     "name": "#%% md\n"
    }
   },
   "source": [
    "## 2 nbextensions  (optional)\n",
    "\n",
    "Installing some fancy features to your Jupyter Notebooks through\n",
    "[`nbextensions`](https://jupyter-contrib-nbextensions.readthedocs.io/en/latest/install.html)."
   ]
  },
  {
   "cell_type": "code",
   "execution_count": null,
   "metadata": {
    "pycharm": {
     "name": "#%%\n"
    }
   },
   "outputs": [],
   "source": [
    "!pip install jupyter_contrib_nbextensions\n",
    "!jupyter contrib nbextension install"
   ]
  },
  {
   "cell_type": "markdown",
   "source": [
    "> If some error is triggered due to a lag of permissions,\n",
    "> you can add a `--user` flag to the commands above.\n",
    "\n",
    "Then, **restart Jupyter** (under your certain environ, if so) and\n",
    "check for the extensions on the `Nbextensions` tab.\n",
    "\n",
    "Interesting ones:\n",
    "* **Equation Auto Numbering**: add equation numbers when using `\\begin{equation} ... \\end{equation}`\n",
    "* **Ruler**: shows a vertical line at a certain column (80).\n",
    "* **Table of contents 2**: shows a table of contents at left side, and can generate a\n",
    "cell with the table of contents.\n",
    "* **spellchecker**: checks the spell.\n",
    "* **scratchpad**: opens a scratchpad to try new code when `[ctrl]+B` is pressed."
   ],
   "metadata": {
    "collapsed": false,
    "pycharm": {
     "name": "#%% md\n"
    }
   }
  }
 ],
 "metadata": {
  "kernelspec": {
   "display_name": "Python 3 (ipykernel)",
   "language": "python",
   "name": "python3"
  },
  "language_info": {
   "codemirror_mode": {
    "name": "ipython",
    "version": 3
   },
   "file_extension": ".py",
   "mimetype": "text/x-python",
   "name": "python",
   "nbconvert_exporter": "python",
   "pygments_lexer": "ipython3",
   "version": "3.9.7"
  },
  "toc": {
   "base_numbering": "0",
   "nav_menu": {},
   "number_sections": false,
   "sideBar": true,
   "skip_h1_title": true,
   "title_cell": "Table of Contents",
   "title_sidebar": "Table of Contents",
   "toc_cell": true,
   "toc_position": {
    "height": "calc(100% - 180px)",
    "left": "10px",
    "top": "150px",
    "width": "307.2px"
   },
   "toc_section_display": true,
   "toc_window_display": true
  }
 },
 "nbformat": 4,
 "nbformat_minor": 1
}